{
 "cells": [
  {
   "cell_type": "markdown",
   "id": "728fa0e3",
   "metadata": {},
   "source": [
    "# Course project. Algorithms of data analysis. \n",
    "# Classification. Choose tutors\n",
    "https://www.kaggle.com/c/gb-choose-tutors"
   ]
  },
  {
   "cell_type": "code",
   "execution_count": 31,
   "id": "838955ce",
   "metadata": {},
   "outputs": [],
   "source": [
    "import numpy as np\n",
    "import pandas as pd\n",
    "from sklearn.model_selection import train_test_split\n",
    "from imblearn import over_sampling, under_sampling\n",
    "import matplotlib.pyplot as plt\n",
    "import seaborn as sns"
   ]
  },
  {
   "cell_type": "markdown",
   "id": "f2aa977e-e296-49f6-a1a9-c2a9292f8251",
   "metadata": {},
   "source": [
    "Let's make custom functions for classification.\n",
    "\n",
    "Standard Scale:"
   ]
  },
  {
   "cell_type": "markdown",
   "id": "8081f13e-baae-4a2b-8dd9-ec7e7ff40c01",
   "metadata": {},
   "source": [
    "$$x^{j}_{i}=\\frac{x^{j}_{i} - \\mu_{j}}{\\sigma_{j}}.$$"
   ]
  },
  {
   "cell_type": "code",
   "execution_count": 32,
   "id": "3828f1c7",
   "metadata": {},
   "outputs": [],
   "source": [
    "def standart_scale(x):\n",
    "    return (x - x.mean()) / x.std()"
   ]
  },
  {
   "cell_type": "markdown",
   "id": "0b378788-be29-44f6-a1aa-021615ad062a",
   "metadata": {},
   "source": [
    "Sigmoid function: \n",
    "\n",
    "$$\\sigma(z) = \\frac{1}{1 + exp^{(-z)}}$$"
   ]
  },
  {
   "cell_type": "code",
   "execution_count": 33,
   "id": "7fca5738",
   "metadata": {},
   "outputs": [],
   "source": [
    "# sigmoid function where: z = np.dot(X, w)\n",
    "def sigmoid(z):\n",
    "    return 1 / (1 + np.exp(-z))"
   ]
  },
  {
   "cell_type": "markdown",
   "id": "797d94e9-1fbe-405c-acb8-660f6a8f5851",
   "metadata": {},
   "source": [
    "Log loss function:\n",
    "\n",
    "$$L(X) = -\\frac{1}{l}\\sum^{l}_{i=1} (y_{i} \\text{ln}(\\sigma) + (1 - y_{i})\\text{ln} (1-\\sigma)).$$"
   ]
  },
  {
   "cell_type": "code",
   "execution_count": 34,
   "id": "0978b2f9",
   "metadata": {},
   "outputs": [],
   "source": [
    "# y_pred = sigmoid(np.dot(X, w))\n",
    "def log_loss(y, y_pred):\n",
    "    eps = 1e-8\n",
    "    y_pred = np.clip(y_pred, eps, 1 - eps)  # that need to avoid zero in logarithm\n",
    "    return -np.mean(y * np.log(y_pred) + (1 - y) * np.log(1 - y_pred))"
   ]
  },
  {
   "cell_type": "markdown",
   "id": "730e3a46-1714-4385-8c9e-6934ccafd417",
   "metadata": {},
   "source": [
    "Logistic regression function:"
   ]
  },
  {
   "cell_type": "code",
   "execution_count": 35,
   "id": "d4e8a378",
   "metadata": {},
   "outputs": [],
   "source": [
    "# get weights\n",
    "def eval_model(x, y, iterations=500, eta=1e-4):\n",
    "    np.random.seed(42)\n",
    "    w = np.random.randn(x.shape[1])\n",
    "    n = x.shape[0]\n",
    "    \n",
    "    for i in range(iterations):\n",
    "        z = np.dot(x, w)\n",
    "        y_pred = sigmoid(z)\n",
    "        err = log_loss(y, y_pred)\n",
    "        \n",
    "        dQ = 1/n * x.T @ (y_pred - y)\n",
    "        w -= eta * dQ\n",
    "            \n",
    "    return w, log_loss(y, y_pred)"
   ]
  },
  {
   "cell_type": "code",
   "execution_count": 36,
   "id": "88512f83",
   "metadata": {},
   "outputs": [],
   "source": [
    "def predict(x, w, t=0.5):\n",
    "    m = x.shape[0]\n",
    "    y_pred = np.zeros(m, dtype=int)\n",
    "    A = np.squeeze(sigmoid(np.dot(x, w)))\n",
    "\n",
    "    # Predict class denpending from threshold\n",
    "    for i in range(A.shape[0]):\n",
    "        if (A[i] > t): \n",
    "            y_pred[i] = 1\n",
    "        elif (A[i] <= t):\n",
    "            y_pred[i] = 0\n",
    "\n",
    "    return y_pred"
   ]
  },
  {
   "cell_type": "code",
   "execution_count": 37,
   "id": "3350024c",
   "metadata": {},
   "outputs": [],
   "source": [
    "def confusion_matrix(y, y_pred):\n",
    "    cm = np.zeros((2, 2))\n",
    "    for i in range(len(y)): \n",
    "        if y[i] == y_pred[i] == 1: # TP\n",
    "            cm[0][0] += 1\n",
    "        elif y[i] == y_pred[i] == 0: # TN\n",
    "            cm[1][1] += 1\n",
    "        elif y[i] != y_pred[i] and y[i] == 0: # FP\n",
    "            cm[0][1] += 1\n",
    "        elif y[i] != y_pred[i] and y[i] == 1: # FN\n",
    "            cm[1][0] += 1        \n",
    "    return cm"
   ]
  },
  {
   "cell_type": "code",
   "execution_count": 156,
   "id": "d3e19f7c",
   "metadata": {},
   "outputs": [],
   "source": [
    "# new cm with thresholds\n",
    "def confusion_matrix(y, y_pred, t=0.5):\n",
    "    cm = np.zeros((2, 2))\n",
    "    for i in range(len(y)):         \n",
    "        if y[i] > t and y_pred[i] > t: # TP\n",
    "            cm[0][0] += 1            \n",
    "        elif y[i] <= t and y_pred[i] <= t: # TN\n",
    "            cm[1][1] += 1            \n",
    "        elif y[i] <= t and y_pred[i] > t: # FP\n",
    "            cm[0][1] += 1            \n",
    "        elif y[i] > t and y_pred[i] <= t: # FN\n",
    "            cm[1][0] += 1        \n",
    "    return cm"
   ]
  },
  {
   "cell_type": "code",
   "execution_count": 38,
   "id": "0a893af3",
   "metadata": {},
   "outputs": [],
   "source": [
    "# get TP TN FP FN from confusion matrix\n",
    "def positive_negative(cm):\n",
    "    TP = cm[0][0]\n",
    "    TN = cm[1][1]\n",
    "    FP = cm[0][1]\n",
    "    FN = cm[1][0]\n",
    "    return TP, TN, FP, FN"
   ]
  },
  {
   "cell_type": "code",
   "execution_count": 158,
   "id": "e8a6e960",
   "metadata": {},
   "outputs": [],
   "source": [
    "def roc_curve(x, y, w):\n",
    "    thresholds = np.linspace(0, 1, 100)\n",
    "    tpr_row = []\n",
    "    fpr_row = []\n",
    "    y = y.to_numpy().copy()\n",
    "    y_pred = sigmoid(np.dot(x, w))\n",
    "    \n",
    "    for t in thresholds:\n",
    "#         y_pred = predict(x, w, t)\n",
    "        cm = confusion_matrix(y, y_pred, t)  # t\n",
    "        tp, tn, fp, fn = positive_negative(cm)\n",
    "        # check zero in denominators\n",
    "        denominator_tpr = tp + fn\n",
    "        denominator_fpr = fp + tn\n",
    "        if denominator_tpr == 0.0:\n",
    "            denominator_tpr += 1e-12\n",
    "        if denominator_fpr == 0.0:\n",
    "            denominator_fpr += 1e-12\n",
    "        tpr = tp / denominator_tpr\n",
    "        fpr = fp / denominator_fpr\n",
    "        tpr_row.insert(0, tpr)\n",
    "        fpr_row.insert(0, fpr)\n",
    "        \n",
    "    return tpr_row, fpr_row"
   ]
  },
  {
   "cell_type": "code",
   "execution_count": 40,
   "id": "3d01eb26",
   "metadata": {},
   "outputs": [],
   "source": [
    "data = pd.read_csv('train.csv')\n",
    "test = pd.read_csv('test.csv')\n",
    "samples = pd.read_csv('sample_submission.csv')"
   ]
  },
  {
   "cell_type": "code",
   "execution_count": 41,
   "id": "373ff51d",
   "metadata": {},
   "outputs": [
    {
     "data": {
      "text/html": [
       "<div>\n",
       "<style scoped>\n",
       "    .dataframe tbody tr th:only-of-type {\n",
       "        vertical-align: middle;\n",
       "    }\n",
       "\n",
       "    .dataframe tbody tr th {\n",
       "        vertical-align: top;\n",
       "    }\n",
       "\n",
       "    .dataframe thead th {\n",
       "        text-align: right;\n",
       "    }\n",
       "</style>\n",
       "<table border=\"1\" class=\"dataframe\">\n",
       "  <thead>\n",
       "    <tr style=\"text-align: right;\">\n",
       "      <th></th>\n",
       "      <th>Id</th>\n",
       "      <th>age</th>\n",
       "      <th>years_of_experience</th>\n",
       "      <th>lesson_price</th>\n",
       "      <th>qualification</th>\n",
       "      <th>physics</th>\n",
       "      <th>chemistry</th>\n",
       "      <th>biology</th>\n",
       "      <th>english</th>\n",
       "      <th>geography</th>\n",
       "      <th>history</th>\n",
       "      <th>mean_exam_points</th>\n",
       "      <th>choose</th>\n",
       "    </tr>\n",
       "  </thead>\n",
       "  <tbody>\n",
       "    <tr>\n",
       "      <th>0</th>\n",
       "      <td>0</td>\n",
       "      <td>35.0</td>\n",
       "      <td>0.0</td>\n",
       "      <td>2150.0</td>\n",
       "      <td>2.0</td>\n",
       "      <td>0.0</td>\n",
       "      <td>0.0</td>\n",
       "      <td>0.0</td>\n",
       "      <td>0.0</td>\n",
       "      <td>0.0</td>\n",
       "      <td>0.0</td>\n",
       "      <td>74.0</td>\n",
       "      <td>0</td>\n",
       "    </tr>\n",
       "    <tr>\n",
       "      <th>1</th>\n",
       "      <td>1</td>\n",
       "      <td>52.0</td>\n",
       "      <td>2.0</td>\n",
       "      <td>1250.0</td>\n",
       "      <td>2.0</td>\n",
       "      <td>1.0</td>\n",
       "      <td>0.0</td>\n",
       "      <td>1.0</td>\n",
       "      <td>0.0</td>\n",
       "      <td>0.0</td>\n",
       "      <td>1.0</td>\n",
       "      <td>57.0</td>\n",
       "      <td>1</td>\n",
       "    </tr>\n",
       "    <tr>\n",
       "      <th>2</th>\n",
       "      <td>2</td>\n",
       "      <td>29.0</td>\n",
       "      <td>3.0</td>\n",
       "      <td>1750.0</td>\n",
       "      <td>1.0</td>\n",
       "      <td>1.0</td>\n",
       "      <td>0.0</td>\n",
       "      <td>0.0</td>\n",
       "      <td>0.0</td>\n",
       "      <td>0.0</td>\n",
       "      <td>0.0</td>\n",
       "      <td>66.0</td>\n",
       "      <td>0</td>\n",
       "    </tr>\n",
       "  </tbody>\n",
       "</table>\n",
       "</div>"
      ],
      "text/plain": [
       "   Id   age  years_of_experience  lesson_price  qualification  physics  \\\n",
       "0   0  35.0                  0.0        2150.0            2.0      0.0   \n",
       "1   1  52.0                  2.0        1250.0            2.0      1.0   \n",
       "2   2  29.0                  3.0        1750.0            1.0      1.0   \n",
       "\n",
       "   chemistry  biology  english  geography  history  mean_exam_points  choose  \n",
       "0        0.0      0.0      0.0        0.0      0.0              74.0       0  \n",
       "1        0.0      1.0      0.0        0.0      1.0              57.0       1  \n",
       "2        0.0      0.0      0.0        0.0      0.0              66.0       0  "
      ]
     },
     "execution_count": 41,
     "metadata": {},
     "output_type": "execute_result"
    }
   ],
   "source": [
    "data.head(3)"
   ]
  },
  {
   "cell_type": "code",
   "execution_count": 42,
   "id": "8e68c3e2",
   "metadata": {
    "scrolled": true
   },
   "outputs": [
    {
     "data": {
      "text/plain": [
       "0    8891\n",
       "1    1109\n",
       "Name: choose, dtype: int64"
      ]
     },
     "execution_count": 42,
     "metadata": {},
     "output_type": "execute_result"
    }
   ],
   "source": [
    "data.choose.value_counts()"
   ]
  },
  {
   "cell_type": "code",
   "execution_count": 43,
   "id": "6b82c508",
   "metadata": {},
   "outputs": [
    {
     "data": {
      "text/plain": [
       "Text(0.5, 0, 'choose')"
      ]
     },
     "execution_count": 43,
     "metadata": {},
     "output_type": "execute_result"
    },
    {
     "data": {
      "image/png": "[encoded data removed]",
      "text/plain": [
       "<Figure size 432x288 with 1 Axes>"
      ]
     },
     "metadata": {
      "needs_background": "light"
     },
     "output_type": "display_data"
    }
   ],
   "source": [
    "# Check correlation of features\n",
    "data.corr().drop('choose', axis=1).loc['choose'].sort_values().plot(kind='barh')\n",
    "plt.grid(linewidth=0.3, alpha=0.4)\n",
    "plt.xlabel('choose')"
   ]
  },
  {
   "cell_type": "code",
   "execution_count": 44,
   "id": "b4f37b28",
   "metadata": {},
   "outputs": [],
   "source": [
    "features = ['age', 'years_of_experience', 'lesson_price', 'qualification', \n",
    "            'physics', 'chemistry', 'biology', 'english', 'geography', 'history', 'mean_exam_points'] \n",
    "\n",
    "target = 'choose'"
   ]
  },
  {
   "cell_type": "code",
   "execution_count": 45,
   "id": "3747805f",
   "metadata": {},
   "outputs": [],
   "source": [
    "# Add ones column. This one need for learn\n",
    "data = pd.concat([pd.Series(np.ones(10000), name='zero'), data], axis=1)\n",
    "# Scaling\n",
    "data.loc[:, features] = standart_scale(data.loc[:, features])\n",
    "# Add zero name in features for consistent\n",
    "features.insert(0, 'zero')"
   ]
  },
  {
   "cell_type": "code",
   "execution_count": 46,
   "id": "0cb909e0",
   "metadata": {},
   "outputs": [
    {
     "data": {
      "text/html": [
       "<div>\n",
       "<style scoped>\n",
       "    .dataframe tbody tr th:only-of-type {\n",
       "        vertical-align: middle;\n",
       "    }\n",
       "\n",
       "    .dataframe tbody tr th {\n",
       "        vertical-align: top;\n",
       "    }\n",
       "\n",
       "    .dataframe thead th {\n",
       "        text-align: right;\n",
       "    }\n",
       "</style>\n",
       "<table border=\"1\" class=\"dataframe\">\n",
       "  <thead>\n",
       "    <tr style=\"text-align: right;\">\n",
       "      <th></th>\n",
       "      <th>zero</th>\n",
       "      <th>Id</th>\n",
       "      <th>age</th>\n",
       "      <th>years_of_experience</th>\n",
       "      <th>lesson_price</th>\n",
       "      <th>qualification</th>\n",
       "      <th>physics</th>\n",
       "      <th>chemistry</th>\n",
       "      <th>biology</th>\n",
       "      <th>english</th>\n",
       "      <th>geography</th>\n",
       "      <th>history</th>\n",
       "      <th>mean_exam_points</th>\n",
       "      <th>choose</th>\n",
       "    </tr>\n",
       "  </thead>\n",
       "  <tbody>\n",
       "    <tr>\n",
       "      <th>0</th>\n",
       "      <td>1.0</td>\n",
       "      <td>0</td>\n",
       "      <td>-1.345023</td>\n",
       "      <td>-1.117674</td>\n",
       "      <td>0.854466</td>\n",
       "      <td>0.345123</td>\n",
       "      <td>-0.767304</td>\n",
       "      <td>-0.371874</td>\n",
       "      <td>-0.364343</td>\n",
       "      <td>-0.250611</td>\n",
       "      <td>-0.168779</td>\n",
       "      <td>-0.135381</td>\n",
       "      <td>0.703552</td>\n",
       "      <td>0</td>\n",
       "    </tr>\n",
       "    <tr>\n",
       "      <th>1</th>\n",
       "      <td>1.0</td>\n",
       "      <td>1</td>\n",
       "      <td>0.771966</td>\n",
       "      <td>0.014262</td>\n",
       "      <td>-0.863783</td>\n",
       "      <td>0.345123</td>\n",
       "      <td>1.303134</td>\n",
       "      <td>-0.371874</td>\n",
       "      <td>2.744389</td>\n",
       "      <td>-0.250611</td>\n",
       "      <td>-0.168779</td>\n",
       "      <td>7.385804</td>\n",
       "      <td>-0.546906</td>\n",
       "      <td>1</td>\n",
       "    </tr>\n",
       "    <tr>\n",
       "      <th>2</th>\n",
       "      <td>1.0</td>\n",
       "      <td>2</td>\n",
       "      <td>-2.092195</td>\n",
       "      <td>0.580231</td>\n",
       "      <td>0.090800</td>\n",
       "      <td>-0.906684</td>\n",
       "      <td>1.303134</td>\n",
       "      <td>-0.371874</td>\n",
       "      <td>-0.364343</td>\n",
       "      <td>-0.250611</td>\n",
       "      <td>-0.168779</td>\n",
       "      <td>-0.135381</td>\n",
       "      <td>0.115101</td>\n",
       "      <td>0</td>\n",
       "    </tr>\n",
       "  </tbody>\n",
       "</table>\n",
       "</div>"
      ],
      "text/plain": [
       "   zero  Id       age  years_of_experience  lesson_price  qualification  \\\n",
       "0   1.0   0 -1.345023            -1.117674      0.854466       0.345123   \n",
       "1   1.0   1  0.771966             0.014262     -0.863783       0.345123   \n",
       "2   1.0   2 -2.092195             0.580231      0.090800      -0.906684   \n",
       "\n",
       "    physics  chemistry   biology   english  geography   history  \\\n",
       "0 -0.767304  -0.371874 -0.364343 -0.250611  -0.168779 -0.135381   \n",
       "1  1.303134  -0.371874  2.744389 -0.250611  -0.168779  7.385804   \n",
       "2  1.303134  -0.371874 -0.364343 -0.250611  -0.168779 -0.135381   \n",
       "\n",
       "   mean_exam_points  choose  \n",
       "0          0.703552       0  \n",
       "1         -0.546906       1  \n",
       "2          0.115101       0  "
      ]
     },
     "execution_count": 46,
     "metadata": {},
     "output_type": "execute_result"
    }
   ],
   "source": [
    "data.head(3)"
   ]
  },
  {
   "cell_type": "code",
   "execution_count": 47,
   "id": "a39f894a",
   "metadata": {},
   "outputs": [],
   "source": [
    "train, valid = train_test_split(data, test_size=0.3, random_state=0)"
   ]
  },
  {
   "cell_type": "markdown",
   "id": "c657ea5e-9428-44f0-a438-2912dbb9b9be",
   "metadata": {},
   "source": [
    "Grid Search:"
   ]
  },
  {
   "cell_type": "code",
   "execution_count": 18,
   "id": "97fb7d1a",
   "metadata": {
    "scrolled": true
   },
   "outputs": [
    {
     "name": "stdout",
     "output_type": "stream",
     "text": [
      "Ошибка 0.25129903446442964 при параметрах {'iteration': 300, 'eta': 1.0}\n",
      "Ошибка 0.251003256144399 при параметрах {'iteration': 300, 'eta': 1.2142857142857142}\n",
      "Ошибка 0.25087315876612654 при параметрах {'iteration': 300, 'eta': 1.4285714285714286}\n",
      "Ошибка 0.2508141718306777 при параметрах {'iteration': 300, 'eta': 1.6428571428571428}\n",
      "Ошибка 0.2507869071871422 при параметрах {'iteration': 300, 'eta': 1.8571428571428572}\n",
      "Ошибка 0.25077414759437855 при параметрах {'iteration': 300, 'eta': 2.071428571428571}\n",
      "Ошибка 0.25076812792915515 при параметрах {'iteration': 300, 'eta': 2.2857142857142856}\n",
      "Ошибка 0.2507652732075187 при параметрах {'iteration': 300, 'eta': 2.5}\n",
      "Ошибка 0.2507639149525759 при параметрах {'iteration': 300, 'eta': 2.7142857142857144}\n",
      "Ошибка 0.2507632674174648 при параметрах {'iteration': 300, 'eta': 2.9285714285714284}\n",
      "Ошибка 0.25076295836814166 при параметрах {'iteration': 300, 'eta': 3.142857142857143}\n",
      "Ошибка 0.25076281079238205 при параметрах {'iteration': 300, 'eta': 3.357142857142857}\n",
      "Ошибка 0.2507627403155362 при параметрах {'iteration': 300, 'eta': 3.571428571428571}\n",
      "Ошибка 0.25076270666488076 при параметрах {'iteration': 300, 'eta': 3.7857142857142856}\n",
      "Ошибка 0.2507626906044687 при параметрах {'iteration': 300, 'eta': 4.0}\n",
      "Ошибка 0.2507626847512583 при параметрах {'iteration': 500, 'eta': 2.5}\n",
      "Ошибка 0.2507626785541874 при параметрах {'iteration': 500, 'eta': 2.7142857142857144}\n",
      "Ошибка 0.25076267673440306 при параметрах {'iteration': 500, 'eta': 2.9285714285714284}\n",
      "Ошибка 0.25076267620066883 при параметрах {'iteration': 500, 'eta': 3.142857142857143}\n",
      "Ошибка 0.25076267604433455 при параметрах {'iteration': 500, 'eta': 3.357142857142857}\n",
      "Ошибка 0.25076267599860474 при параметрах {'iteration': 500, 'eta': 3.571428571428571}\n",
      "Ошибка 0.250762675985249 при параметрах {'iteration': 500, 'eta': 3.7857142857142856}\n",
      "Ошибка 0.25076267598135393 при параметрах {'iteration': 500, 'eta': 4.0}\n",
      "Ошибка 0.25076267598072355 при параметрах {'iteration': 700, 'eta': 2.9285714285714284}\n",
      "Ошибка 0.2507626759799277 при параметрах {'iteration': 700, 'eta': 3.142857142857143}\n",
      "Ошибка 0.2507626759797853 при параметрах {'iteration': 700, 'eta': 3.357142857142857}\n",
      "Ошибка 0.25076267597976054 при параметрах {'iteration': 700, 'eta': 3.571428571428571}\n",
      "Ошибка 0.2507626759797545 при параметрах {'iteration': 700, 'eta': 3.7857142857142856}\n",
      "Наименьшая ошибка 0.2507626759797545 при параметрах {'iteration': 700, 'eta': 3.7857142857142856}\n"
     ]
    }
   ],
   "source": [
    "# Select parameters\n",
    "iterations = np.linspace(300, 700, 3, dtype=int)\n",
    "etas = np.linspace(1, 4, 15)\n",
    "\n",
    "best_error = np.inf\n",
    "best_params = {}\n",
    "\n",
    "for iteration in iterations:\n",
    "    for eta in etas:\n",
    "        w, error = eval_model(train.loc[:, features], train[target], iterations=iteration, eta=eta)\n",
    "        if error < best_error:\n",
    "            best_error = error\n",
    "            best_params = {\n",
    "                'iteration': iteration,\n",
    "                'eta': eta\n",
    "            }\n",
    "            print(f'Ошибка {best_error} при параметрах {best_params}')\n",
    "        \n",
    "print(f'Наименьшая ошибка {best_error} при параметрах {best_params}')"
   ]
  },
  {
   "cell_type": "code",
   "execution_count": 48,
   "id": "68d1bb48",
   "metadata": {
    "scrolled": true
   },
   "outputs": [
    {
     "data": {
      "text/plain": [
       "(zero                  -3.129165\n",
       " age                    0.065252\n",
       " years_of_experience   -0.075426\n",
       " lesson_price          -2.902883\n",
       " qualification          1.307223\n",
       " physics                0.437780\n",
       " chemistry              0.292799\n",
       " biology                0.209619\n",
       " english                0.068264\n",
       " geography              0.027467\n",
       " history                0.022910\n",
       " mean_exam_points       1.552935\n",
       " dtype: float64,\n",
       " 0.2507626759797545)"
      ]
     },
     "execution_count": 48,
     "metadata": {},
     "output_type": "execute_result"
    }
   ],
   "source": [
    "# Optimal parameters: \n",
    "w, err = eval_model(train.loc[:, features], train[target], iterations=700, eta=3.7857142857142856)\n",
    "w, err"
   ]
  },
  {
   "cell_type": "code",
   "execution_count": 159,
   "id": "4c0dba37",
   "metadata": {
    "collapsed": true,
    "jupyter": {
     "outputs_hidden": true
    },
    "tags": []
   },
   "outputs": [
    {
     "data": {
      "text/plain": [
       "([0.0,\n",
       "  0.005763688760806916,\n",
       "  0.005763688760806916,\n",
       "  0.008645533141210375,\n",
       "  0.011527377521613832,\n",
       "  0.011527377521613832,\n",
       "  0.01440922190201729,\n",
       "  0.01729106628242075,\n",
       "  0.020172910662824207,\n",
       "  0.023054755043227664,\n",
       "  0.023054755043227664,\n",
       "  0.023054755043227664,\n",
       "  0.023054755043227664,\n",
       "  0.025936599423631124,\n",
       "  0.025936599423631124,\n",
       "  0.02881844380403458,\n",
       "  0.02881844380403458,\n",
       "  0.03170028818443804,\n",
       "  0.03170028818443804,\n",
       "  0.0345821325648415,\n",
       "  0.0345821325648415,\n",
       "  0.0345821325648415,\n",
       "  0.037463976945244955,\n",
       "  0.040345821325648415,\n",
       "  0.04610951008645533,\n",
       "  0.04899135446685879,\n",
       "  0.05187319884726225,\n",
       "  0.05763688760806916,\n",
       "  0.05763688760806916,\n",
       "  0.05763688760806916,\n",
       "  0.06628242074927954,\n",
       "  0.07204610951008646,\n",
       "  0.07780979827089338,\n",
       "  0.08357348703170028,\n",
       "  0.08645533141210375,\n",
       "  0.08645533141210375,\n",
       "  0.09221902017291066,\n",
       "  0.09510086455331412,\n",
       "  0.1037463976945245,\n",
       "  0.10951008645533142,\n",
       "  0.12103746397694524,\n",
       "  0.12968299711815562,\n",
       "  0.13544668587896252,\n",
       "  0.13544668587896252,\n",
       "  0.1440922190201729,\n",
       "  0.15273775216138327,\n",
       "  0.1642651296829971,\n",
       "  0.18155619596541786,\n",
       "  0.1873198847262248,\n",
       "  0.19596541786743515,\n",
       "  0.20461095100864554,\n",
       "  0.21037463976945245,\n",
       "  0.2132564841498559,\n",
       "  0.22478386167146974,\n",
       "  0.23054755043227665,\n",
       "  0.23631123919308358,\n",
       "  0.2420749279538905,\n",
       "  0.25360230547550433,\n",
       "  0.2622478386167147,\n",
       "  0.2680115273775216,\n",
       "  0.27953890489913547,\n",
       "  0.3025936599423631,\n",
       "  0.3112391930835735,\n",
       "  0.3285302593659942,\n",
       "  0.345821325648415,\n",
       "  0.3515850144092219,\n",
       "  0.3631123919308357,\n",
       "  0.3804034582132565,\n",
       "  0.3861671469740634,\n",
       "  0.39481268011527376,\n",
       "  0.40057636887608067,\n",
       "  0.41786743515850144,\n",
       "  0.42939481268011526,\n",
       "  0.4409221902017291,\n",
       "  0.4495677233429395,\n",
       "  0.484149855907781,\n",
       "  0.5072046109510087,\n",
       "  0.5331412103746398,\n",
       "  0.5504322766570605,\n",
       "  0.5677233429394812,\n",
       "  0.5878962536023055,\n",
       "  0.6195965417867435,\n",
       "  0.6397694524495677,\n",
       "  0.6512968299711815,\n",
       "  0.6657060518731989,\n",
       "  0.7089337175792507,\n",
       "  0.7348703170028819,\n",
       "  0.7521613832853026,\n",
       "  0.7752161383285303,\n",
       "  0.8040345821325648,\n",
       "  0.8270893371757925,\n",
       "  0.8530259365994236,\n",
       "  0.8789625360230547,\n",
       "  0.9077809798270894,\n",
       "  0.930835734870317,\n",
       "  0.9654178674351584,\n",
       "  0.9827089337175793,\n",
       "  0.9942363112391931,\n",
       "  0.9971181556195965,\n",
       "  1.0],\n",
       " [0.0,\n",
       "  0.0,\n",
       "  0.0,\n",
       "  0.0,\n",
       "  0.0,\n",
       "  0.0,\n",
       "  0.0,\n",
       "  0.0,\n",
       "  0.0,\n",
       "  0.0003769317753486619,\n",
       "  0.0007538635506973238,\n",
       "  0.0007538635506973238,\n",
       "  0.0011307953260459858,\n",
       "  0.0011307953260459858,\n",
       "  0.0011307953260459858,\n",
       "  0.0011307953260459858,\n",
       "  0.0011307953260459858,\n",
       "  0.0011307953260459858,\n",
       "  0.0011307953260459858,\n",
       "  0.0011307953260459858,\n",
       "  0.0015077271013946476,\n",
       "  0.0018846588767433095,\n",
       "  0.0022615906520919715,\n",
       "  0.0022615906520919715,\n",
       "  0.0022615906520919715,\n",
       "  0.002638522427440633,\n",
       "  0.002638522427440633,\n",
       "  0.003392385978137957,\n",
       "  0.003392385978137957,\n",
       "  0.003392385978137957,\n",
       "  0.003392385978137957,\n",
       "  0.003392385978137957,\n",
       "  0.003769317753486619,\n",
       "  0.003769317753486619,\n",
       "  0.0041462495288352805,\n",
       "  0.004523181304183943,\n",
       "  0.004523181304183943,\n",
       "  0.004900113079532605,\n",
       "  0.005277044854881266,\n",
       "  0.005277044854881266,\n",
       "  0.006784771956275914,\n",
       "  0.006784771956275914,\n",
       "  0.007538635506973238,\n",
       "  0.008292499057670561,\n",
       "  0.008292499057670561,\n",
       "  0.009046362608367886,\n",
       "  0.009423294383716547,\n",
       "  0.010177157934413872,\n",
       "  0.011684885035808518,\n",
       "  0.01206181681115718,\n",
       "  0.012438748586505842,\n",
       "  0.013569543912551827,\n",
       "  0.015077271013946476,\n",
       "  0.0158311345646438,\n",
       "  0.01620806633999246,\n",
       "  0.018469656992084433,\n",
       "  0.02148511119487373,\n",
       "  0.023369770071617037,\n",
       "  0.025254428948360347,\n",
       "  0.02789295137580098,\n",
       "  0.029023746701846966,\n",
       "  0.03015454202789295,\n",
       "  0.03203920090463626,\n",
       "  0.033169996230682244,\n",
       "  0.0365623822088202,\n",
       "  0.041085563513004145,\n",
       "  0.04523181304183943,\n",
       "  0.04937806257067471,\n",
       "  0.053147380324161324,\n",
       "  0.05653976630229928,\n",
       "  0.058424425179042595,\n",
       "  0.06219374293252921,\n",
       "  0.0682246513381078,\n",
       "  0.07086317376554843,\n",
       "  0.07500942329438372,\n",
       "  0.07990953637391632,\n",
       "  0.08594044477949492,\n",
       "  0.09272521673577083,\n",
       "  0.09950998869204673,\n",
       "  0.10516396532227666,\n",
       "  0.11496419148134188,\n",
       "  0.12589521296645306,\n",
       "  0.13720316622691292,\n",
       "  0.14511873350923482,\n",
       "  0.15491895966830005,\n",
       "  0.17225782133433848,\n",
       "  0.183942706370147,\n",
       "  0.20128156803618544,\n",
       "  0.22615906520919712,\n",
       "  0.2483980399547682,\n",
       "  0.2759140595552205,\n",
       "  0.30644553335846214,\n",
       "  0.3426309837919337,\n",
       "  0.3837165473049378,\n",
       "  0.4293252921221259,\n",
       "  0.4858650584244252,\n",
       "  0.5571051639653223,\n",
       "  0.6426686769694685,\n",
       "  0.7576328684508103,\n",
       "  1.0])"
      ]
     },
     "execution_count": 159,
     "metadata": {},
     "output_type": "execute_result"
    }
   ],
   "source": [
    "TPR, FPR = roc_curve(valid.loc[:, features], valid[target], w)\n",
    "TPR, FPR"
   ]
  },
  {
   "cell_type": "code",
   "execution_count": 160,
   "id": "03504edb",
   "metadata": {},
   "outputs": [
    {
     "data": {
      "image/png": "[encoded data removed]",
      "text/plain": [
       "<Figure size 432x288 with 1 Axes>"
      ]
     },
     "metadata": {
      "needs_background": "light"
     },
     "output_type": "display_data"
    }
   ],
   "source": [
    "AUC_ROC = np.trapz(TPR, x=FPR)\n",
    "\n",
    "plt.title('ROC curve')\n",
    "plt.ylim(0, 1.05)\n",
    "plt.xlabel('FPR')\n",
    "plt.ylabel('TPR')\n",
    "plt.grid()\n",
    "plt.legend(' ', title=f'AUC-ROC={AUC_ROC:.3f}', loc='lower right')\n",
    "plt.plot(FPR, TPR);\n",
    "plt.scatter(FPR, TPR);"
   ]
  },
  {
   "cell_type": "markdown",
   "id": "bcf4802b",
   "metadata": {},
   "source": [
    "### Predict Test.csv"
   ]
  },
  {
   "cell_type": "code",
   "execution_count": 52,
   "id": "d9913c81",
   "metadata": {},
   "outputs": [
    {
     "data": {
      "text/html": [
       "<div>\n",
       "<style scoped>\n",
       "    .dataframe tbody tr th:only-of-type {\n",
       "        vertical-align: middle;\n",
       "    }\n",
       "\n",
       "    .dataframe tbody tr th {\n",
       "        vertical-align: top;\n",
       "    }\n",
       "\n",
       "    .dataframe thead th {\n",
       "        text-align: right;\n",
       "    }\n",
       "</style>\n",
       "<table border=\"1\" class=\"dataframe\">\n",
       "  <thead>\n",
       "    <tr style=\"text-align: right;\">\n",
       "      <th></th>\n",
       "      <th>zero</th>\n",
       "      <th>Id</th>\n",
       "      <th>age</th>\n",
       "      <th>years_of_experience</th>\n",
       "      <th>lesson_price</th>\n",
       "      <th>qualification</th>\n",
       "      <th>physics</th>\n",
       "      <th>chemistry</th>\n",
       "      <th>biology</th>\n",
       "      <th>english</th>\n",
       "      <th>geography</th>\n",
       "      <th>history</th>\n",
       "      <th>mean_exam_points</th>\n",
       "    </tr>\n",
       "  </thead>\n",
       "  <tbody>\n",
       "    <tr>\n",
       "      <th>0</th>\n",
       "      <td>1.0</td>\n",
       "      <td>10000</td>\n",
       "      <td>-1.733633</td>\n",
       "      <td>0.008074</td>\n",
       "      <td>1.900372</td>\n",
       "      <td>1.643400</td>\n",
       "      <td>-0.769773</td>\n",
       "      <td>-0.383283</td>\n",
       "      <td>-0.361874</td>\n",
       "      <td>-0.226979</td>\n",
       "      <td>-0.173422</td>\n",
       "      <td>-0.123814</td>\n",
       "      <td>1.904968</td>\n",
       "    </tr>\n",
       "    <tr>\n",
       "      <th>1</th>\n",
       "      <td>1.0</td>\n",
       "      <td>10001</td>\n",
       "      <td>-1.360126</td>\n",
       "      <td>2.266408</td>\n",
       "      <td>0.190191</td>\n",
       "      <td>0.377006</td>\n",
       "      <td>1.298954</td>\n",
       "      <td>2.608778</td>\n",
       "      <td>-0.361874</td>\n",
       "      <td>-0.226979</td>\n",
       "      <td>-0.173422</td>\n",
       "      <td>-0.123814</td>\n",
       "      <td>0.504831</td>\n",
       "    </tr>\n",
       "    <tr>\n",
       "      <th>2</th>\n",
       "      <td>1.0</td>\n",
       "      <td>10002</td>\n",
       "      <td>-0.239605</td>\n",
       "      <td>0.008074</td>\n",
       "      <td>-0.949930</td>\n",
       "      <td>-0.889389</td>\n",
       "      <td>-0.769773</td>\n",
       "      <td>-0.383283</td>\n",
       "      <td>-0.361874</td>\n",
       "      <td>-0.226979</td>\n",
       "      <td>-0.173422</td>\n",
       "      <td>-0.123814</td>\n",
       "      <td>-1.411147</td>\n",
       "    </tr>\n",
       "  </tbody>\n",
       "</table>\n",
       "</div>"
      ],
      "text/plain": [
       "   zero     Id       age  years_of_experience  lesson_price  qualification  \\\n",
       "0   1.0  10000 -1.733633             0.008074      1.900372       1.643400   \n",
       "1   1.0  10001 -1.360126             2.266408      0.190191       0.377006   \n",
       "2   1.0  10002 -0.239605             0.008074     -0.949930      -0.889389   \n",
       "\n",
       "    physics  chemistry   biology   english  geography   history  \\\n",
       "0 -0.769773  -0.383283 -0.361874 -0.226979  -0.173422 -0.123814   \n",
       "1  1.298954   2.608778 -0.361874 -0.226979  -0.173422 -0.123814   \n",
       "2 -0.769773  -0.383283 -0.361874 -0.226979  -0.173422 -0.123814   \n",
       "\n",
       "   mean_exam_points  \n",
       "0          1.904968  \n",
       "1          0.504831  \n",
       "2         -1.411147  "
      ]
     },
     "execution_count": 52,
     "metadata": {},
     "output_type": "execute_result"
    }
   ],
   "source": [
    "test = pd.concat([pd.Series(np.ones(10000), name='zero'), test], axis=1)\n",
    "test.loc[:, features[1:]] = standart_scale(test.loc[:, features[1:]])\n",
    "test.head(3)"
   ]
  },
  {
   "cell_type": "code",
   "execution_count": 54,
   "id": "e9e22e77",
   "metadata": {},
   "outputs": [
    {
     "data": {
      "text/plain": [
       "array([0, 0, 0, ..., 0, 1, 0])"
      ]
     },
     "execution_count": 54,
     "metadata": {},
     "output_type": "execute_result"
    }
   ],
   "source": [
    "# pred_test = predict(test.loc[:, features], w)\n",
    "# pred_test"
   ]
  },
  {
   "cell_type": "code",
   "execution_count": 55,
   "id": "78d298b3",
   "metadata": {},
   "outputs": [
    {
     "data": {
      "text/plain": [
       "array([0.0147589 , 0.19300348, 0.01351846, ..., 0.32644976, 0.89404343,\n",
       "       0.02005859])"
      ]
     },
     "execution_count": 55,
     "metadata": {},
     "output_type": "execute_result"
    }
   ],
   "source": [
    "# \"predicted\" should be in probabilities for best score ROC AUC at Kaggle \n",
    "pred_test = sigmoid(np.dot(test.loc[:, features], w))\n",
    "pred_test"
   ]
  },
  {
   "cell_type": "code",
   "execution_count": 118,
   "id": "6f7b07ce",
   "metadata": {},
   "outputs": [
    {
     "data": {
      "text/html": [
       "<div>\n",
       "<style scoped>\n",
       "    .dataframe tbody tr th:only-of-type {\n",
       "        vertical-align: middle;\n",
       "    }\n",
       "\n",
       "    .dataframe tbody tr th {\n",
       "        vertical-align: top;\n",
       "    }\n",
       "\n",
       "    .dataframe thead th {\n",
       "        text-align: right;\n",
       "    }\n",
       "</style>\n",
       "<table border=\"1\" class=\"dataframe\">\n",
       "  <thead>\n",
       "    <tr style=\"text-align: right;\">\n",
       "      <th></th>\n",
       "      <th>Id</th>\n",
       "      <th>choose</th>\n",
       "    </tr>\n",
       "  </thead>\n",
       "  <tbody>\n",
       "    <tr>\n",
       "      <th>0</th>\n",
       "      <td>10000</td>\n",
       "      <td>0.014759</td>\n",
       "    </tr>\n",
       "    <tr>\n",
       "      <th>1</th>\n",
       "      <td>10001</td>\n",
       "      <td>0.193003</td>\n",
       "    </tr>\n",
       "    <tr>\n",
       "      <th>2</th>\n",
       "      <td>10002</td>\n",
       "      <td>0.013518</td>\n",
       "    </tr>\n",
       "  </tbody>\n",
       "</table>\n",
       "</div>"
      ],
      "text/plain": [
       "      Id    choose\n",
       "0  10000  0.014759\n",
       "1  10001  0.193003\n",
       "2  10002  0.013518"
      ]
     },
     "execution_count": 118,
     "metadata": {},
     "output_type": "execute_result"
    }
   ],
   "source": [
    "samples['choose'] = pred_test\n",
    "samples.head(3)"
   ]
  },
  {
   "cell_type": "code",
   "execution_count": 57,
   "id": "d30e582a",
   "metadata": {},
   "outputs": [],
   "source": [
    "samples.to_csv('submissions.csv', index=None)"
   ]
  },
  {
   "cell_type": "code",
   "execution_count": 58,
   "id": "85042de3",
   "metadata": {
    "scrolled": true
   },
   "outputs": [
    {
     "data": {
      "text/html": [
       "<div>\n",
       "<style scoped>\n",
       "    .dataframe tbody tr th:only-of-type {\n",
       "        vertical-align: middle;\n",
       "    }\n",
       "\n",
       "    .dataframe tbody tr th {\n",
       "        vertical-align: top;\n",
       "    }\n",
       "\n",
       "    .dataframe thead th {\n",
       "        text-align: right;\n",
       "    }\n",
       "</style>\n",
       "<table border=\"1\" class=\"dataframe\">\n",
       "  <thead>\n",
       "    <tr style=\"text-align: right;\">\n",
       "      <th></th>\n",
       "      <th>Id</th>\n",
       "      <th>choose</th>\n",
       "    </tr>\n",
       "  </thead>\n",
       "  <tbody>\n",
       "    <tr>\n",
       "      <th>0</th>\n",
       "      <td>10000</td>\n",
       "      <td>0.014759</td>\n",
       "    </tr>\n",
       "    <tr>\n",
       "      <th>1</th>\n",
       "      <td>10001</td>\n",
       "      <td>0.193003</td>\n",
       "    </tr>\n",
       "    <tr>\n",
       "      <th>2</th>\n",
       "      <td>10002</td>\n",
       "      <td>0.013518</td>\n",
       "    </tr>\n",
       "  </tbody>\n",
       "</table>\n",
       "</div>"
      ],
      "text/plain": [
       "      Id    choose\n",
       "0  10000  0.014759\n",
       "1  10001  0.193003\n",
       "2  10002  0.013518"
      ]
     },
     "execution_count": 58,
     "metadata": {},
     "output_type": "execute_result"
    }
   ],
   "source": [
    "pd.read_csv('submissions.csv').head(3)"
   ]
  },
  {
   "cell_type": "markdown",
   "id": "a0b7f04d-f66c-4ee7-a35e-83a7c67f77a6",
   "metadata": {},
   "source": [
    "### Conclusion:"
   ]
  },
  {
   "cell_type": "markdown",
   "id": "1d3a5418-8a35-4964-b717-174926ebfba5",
   "metadata": {},
   "source": [
    "I've got top-3 result in the internal Geekbrains competition:"
   ]
  },
  {
   "cell_type": "code",
   "execution_count": null,
   "id": "23468a70-f87f-47e0-a146-5390bf661f6d",
   "metadata": {},
   "outputs": [],
   "source": []
  },
  {
   "cell_type": "code",
   "execution_count": null,
   "id": "0d1ebe5f-2773-4ec3-8a7b-be8c49705a33",
   "metadata": {},
   "outputs": [],
   "source": []
  },
  {
   "cell_type": "markdown",
   "id": "25691984",
   "metadata": {},
   "source": [
    "### Check probabilities (can be deleted)"
   ]
  },
  {
   "cell_type": "code",
   "execution_count": 139,
   "id": "7566faa1",
   "metadata": {
    "scrolled": true
   },
   "outputs": [
    {
     "data": {
      "text/html": [
       "<div>\n",
       "<style scoped>\n",
       "    .dataframe tbody tr th:only-of-type {\n",
       "        vertical-align: middle;\n",
       "    }\n",
       "\n",
       "    .dataframe tbody tr th {\n",
       "        vertical-align: top;\n",
       "    }\n",
       "\n",
       "    .dataframe thead th {\n",
       "        text-align: right;\n",
       "    }\n",
       "</style>\n",
       "<table border=\"1\" class=\"dataframe\">\n",
       "  <thead>\n",
       "    <tr style=\"text-align: right;\">\n",
       "      <th></th>\n",
       "      <th>Id</th>\n",
       "      <th>choose</th>\n",
       "    </tr>\n",
       "  </thead>\n",
       "  <tbody>\n",
       "    <tr>\n",
       "      <th>0</th>\n",
       "      <td>10000</td>\n",
       "      <td>0.014759</td>\n",
       "    </tr>\n",
       "    <tr>\n",
       "      <th>1</th>\n",
       "      <td>10001</td>\n",
       "      <td>0.193003</td>\n",
       "    </tr>\n",
       "    <tr>\n",
       "      <th>2</th>\n",
       "      <td>10002</td>\n",
       "      <td>0.013518</td>\n",
       "    </tr>\n",
       "  </tbody>\n",
       "</table>\n",
       "</div>"
      ],
      "text/plain": [
       "      Id    choose\n",
       "0  10000  0.014759\n",
       "1  10001  0.193003\n",
       "2  10002  0.013518"
      ]
     },
     "execution_count": 139,
     "metadata": {},
     "output_type": "execute_result"
    }
   ],
   "source": [
    "samples2 = samples.copy()\n",
    "samples2.head(3)"
   ]
  },
  {
   "cell_type": "code",
   "execution_count": 140,
   "id": "852c4d53",
   "metadata": {},
   "outputs": [
    {
     "data": {
      "text/plain": [
       "0       0.008169\n",
       "1       0.186414\n",
       "2       0.006929\n",
       "3       0.005147\n",
       "4       0.185603\n",
       "          ...   \n",
       "9995    0.129417\n",
       "9996    0.005825\n",
       "9997    0.319860\n",
       "9998    0.887454\n",
       "9999    0.013469\n",
       "Name: choose, Length: 10000, dtype: float64"
      ]
     },
     "execution_count": 140,
     "metadata": {},
     "output_type": "execute_result"
    }
   ],
   "source": [
    "samples2['choose'] += np.random.uniform(-1e-2, 1e-2)\n",
    "samples2['choose']"
   ]
  },
  {
   "cell_type": "code",
   "execution_count": 141,
   "id": "672970e2",
   "metadata": {
    "scrolled": true
   },
   "outputs": [
    {
     "data": {
      "text/plain": [
       "([0.0,\n",
       "  1.0,\n",
       "  1.0,\n",
       "  1.0,\n",
       "  1.0,\n",
       "  1.0,\n",
       "  1.0,\n",
       "  1.0,\n",
       "  1.0,\n",
       "  1.0,\n",
       "  1.0,\n",
       "  1.0,\n",
       "  1.0,\n",
       "  1.0,\n",
       "  1.0,\n",
       "  1.0,\n",
       "  1.0,\n",
       "  1.0,\n",
       "  1.0,\n",
       "  1.0,\n",
       "  1.0,\n",
       "  1.0,\n",
       "  1.0,\n",
       "  1.0,\n",
       "  1.0,\n",
       "  1.0,\n",
       "  1.0,\n",
       "  1.0,\n",
       "  1.0,\n",
       "  1.0,\n",
       "  1.0,\n",
       "  1.0,\n",
       "  1.0,\n",
       "  1.0,\n",
       "  1.0,\n",
       "  1.0,\n",
       "  1.0,\n",
       "  1.0,\n",
       "  1.0,\n",
       "  1.0,\n",
       "  1.0,\n",
       "  1.0,\n",
       "  1.0,\n",
       "  1.0,\n",
       "  1.0,\n",
       "  1.0,\n",
       "  1.0,\n",
       "  1.0,\n",
       "  1.0,\n",
       "  1.0,\n",
       "  1.0,\n",
       "  1.0,\n",
       "  1.0,\n",
       "  1.0,\n",
       "  1.0,\n",
       "  1.0,\n",
       "  1.0,\n",
       "  1.0,\n",
       "  1.0,\n",
       "  1.0,\n",
       "  1.0,\n",
       "  1.0,\n",
       "  1.0,\n",
       "  1.0,\n",
       "  1.0,\n",
       "  1.0,\n",
       "  1.0,\n",
       "  1.0,\n",
       "  1.0,\n",
       "  1.0,\n",
       "  1.0,\n",
       "  1.0,\n",
       "  1.0,\n",
       "  1.0,\n",
       "  1.0,\n",
       "  1.0,\n",
       "  1.0,\n",
       "  1.0,\n",
       "  1.0,\n",
       "  1.0,\n",
       "  1.0,\n",
       "  1.0,\n",
       "  1.0,\n",
       "  1.0,\n",
       "  1.0,\n",
       "  1.0,\n",
       "  1.0,\n",
       "  1.0,\n",
       "  1.0,\n",
       "  1.0,\n",
       "  1.0,\n",
       "  1.0,\n",
       "  1.0,\n",
       "  1.0,\n",
       "  1.0,\n",
       "  1.0,\n",
       "  1.0,\n",
       "  1.0,\n",
       "  1.0,\n",
       "  1.0],\n",
       " [0.0,\n",
       "  0.00030003000300030005,\n",
       "  0.0,\n",
       "  0.00010004001600640257,\n",
       "  0.00010005002501250626,\n",
       "  0.0,\n",
       "  0.0,\n",
       "  0.0,\n",
       "  0.0,\n",
       "  0.00010013016921998598,\n",
       "  0.0,\n",
       "  0.00040064102564102563,\n",
       "  0.0002004208838560978,\n",
       "  0.0002005012531328321,\n",
       "  0.0003008725303379801,\n",
       "  0.0002006823198876179,\n",
       "  0.0002007226013649137,\n",
       "  0.00010039152695512498,\n",
       "  0.0005020584396023697,\n",
       "  0.00010046212577858148,\n",
       "  0.00020096463022508038,\n",
       "  0.0004020908725371934,\n",
       "  0.0004022930705018606,\n",
       "  0.0005030687191870409,\n",
       "  0.0002013895881582922,\n",
       "  0.00040302267002518893,\n",
       "  0.0005040830728904124,\n",
       "  0.0007061434479975789,\n",
       "  0.0,\n",
       "  0.0002020406101626427,\n",
       "  0.0004042037186742118,\n",
       "  0.0007077856420626896,\n",
       "  0.0006072874493927126,\n",
       "  0.0003039821663795724,\n",
       "  0.00040559724193875484,\n",
       "  0.00040584415584415587,\n",
       "  0.0005076657528683116,\n",
       "  0.0002032726903140563,\n",
       "  0.0004069175991861648,\n",
       "  0.001425952332450601,\n",
       "  0.0012244897959183673,\n",
       "  0.0017378859129012472,\n",
       "  0.0003073770491803279,\n",
       "  0.001025010250102501,\n",
       "  0.0013351134846461949,\n",
       "  0.0009260211955962548,\n",
       "  0.0012360939431396785,\n",
       "  0.0009287925696594427,\n",
       "  0.001860080603492818,\n",
       "  0.0009323526364860666,\n",
       "  0.0007265933153414989,\n",
       "  0.001142857142857143,\n",
       "  0.0018730489073881373,\n",
       "  0.0014603108375925732,\n",
       "  0.000836470096194061,\n",
       "  0.0019907795473595976,\n",
       "  0.0015761269307554902,\n",
       "  0.0017917369308600337,\n",
       "  0.0015856236786469344,\n",
       "  0.0026494277236117,\n",
       "  0.002126754572522331,\n",
       "  0.0022404779686333084,\n",
       "  0.00289234065345474,\n",
       "  0.0021510002151000217,\n",
       "  0.0025889967637540453,\n",
       "  0.0032492147730965016,\n",
       "  0.002393906420021763,\n",
       "  0.0036065573770491803,\n",
       "  0.0035168699857127156,\n",
       "  0.004089301503094607,\n",
       "  0.0038923487544483986,\n",
       "  0.004250083883234538,\n",
       "  0.003939666816749212,\n",
       "  0.004307413284969395,\n",
       "  0.005023404498230391,\n",
       "  0.0064449303717343765,\n",
       "  0.006625595722422411,\n",
       "  0.006221387486794225,\n",
       "  0.0066421539556399,\n",
       "  0.006716238906212521,\n",
       "  0.008614413977190002,\n",
       "  0.00823905558288244,\n",
       "  0.009101109587333251,\n",
       "  0.007580543272267846,\n",
       "  0.012032770097286226,\n",
       "  0.012519561815336464,\n",
       "  0.013691346537285657,\n",
       "  0.014113176821821142,\n",
       "  0.019302874600749895,\n",
       "  0.020454870547847233,\n",
       "  0.02626530913383503,\n",
       "  0.03053552247966856,\n",
       "  0.03718010622887494,\n",
       "  0.04439492629413781,\n",
       "  0.05844395280235988,\n",
       "  0.07525794052195023,\n",
       "  0.10562571756601608,\n",
       "  0.1520242357477279,\n",
       "  0.25671321160042965,\n",
       "  1.0])"
      ]
     },
     "execution_count": 141,
     "metadata": {},
     "output_type": "execute_result"
    }
   ],
   "source": [
    "TPR, FPR = roc_curve(test.loc[:, features], samples2['choose'], w)\n",
    "TPR, FPR"
   ]
  },
  {
   "cell_type": "code",
   "execution_count": 142,
   "id": "c71a9343",
   "metadata": {
    "scrolled": true
   },
   "outputs": [
    {
     "data": {
      "image/png": "[encoded data removed]",
      "text/plain": [
       "<Figure size 432x288 with 1 Axes>"
      ]
     },
     "metadata": {
      "needs_background": "light"
     },
     "output_type": "display_data"
    }
   ],
   "source": [
    "AUC_ROC = np.trapz(TPR, x=FPR)\n",
    "\n",
    "plt.title('ROC curve')\n",
    "plt.ylim(0, 1.05)\n",
    "plt.xlabel('FPR')\n",
    "plt.ylabel('TPR')\n",
    "plt.grid()\n",
    "plt.legend(' ', title=f'AUC-ROC={AUC_ROC:.3f}', loc='lower right')\n",
    "plt.plot(FPR, TPR);\n",
    "plt.scatter(FPR, TPR);"
   ]
  },
  {
   "cell_type": "code",
   "execution_count": 153,
   "id": "d6213638",
   "metadata": {
    "scrolled": true
   },
   "outputs": [
    {
     "data": {
      "text/plain": [
       "0.8615470931173562"
      ]
     },
     "execution_count": 153,
     "metadata": {},
     "output_type": "execute_result"
    }
   ],
   "source": [
    "AUC_ROC"
   ]
  },
  {
   "cell_type": "markdown",
   "id": "1b22eff0-1426-4009-8024-063107512cdd",
   "metadata": {},
   "source": [
    "Compare with sklearn metric"
   ]
  },
  {
   "cell_type": "code",
   "execution_count": 143,
   "id": "709b9728",
   "metadata": {},
   "outputs": [],
   "source": [
    "from sklearn.metrics import roc_auc_score"
   ]
  },
  {
   "cell_type": "code",
   "execution_count": 163,
   "id": "dd74e871",
   "metadata": {},
   "outputs": [
    {
     "data": {
      "text/plain": [
       "0.8613015986469562"
      ]
     },
     "execution_count": 163,
     "metadata": {},
     "output_type": "execute_result"
    }
   ],
   "source": [
    "roc_auc_score(valid[target], sigmoid(np.dot(valid.loc[:, features], w)))"
   ]
  },
  {
   "cell_type": "code",
   "execution_count": 162,
   "id": "608b0314",
   "metadata": {},
   "outputs": [
    {
     "data": {
      "text/plain": [
       "0.5962745670987442"
      ]
     },
     "execution_count": 162,
     "metadata": {},
     "output_type": "execute_result"
    }
   ],
   "source": [
    "roc_auc_score(valid[target], predict(valid.loc[:, features], w))"
   ]
  },
  {
   "cell_type": "code",
   "execution_count": 155,
   "id": "1215f73f",
   "metadata": {},
   "outputs": [
    {
     "data": {
      "text/plain": [
       "0       0.008169\n",
       "1       0.186414\n",
       "2       0.006929\n",
       "3       0.005147\n",
       "4       0.185603\n",
       "          ...   \n",
       "9995    0.129417\n",
       "9996    0.005825\n",
       "9997    0.319860\n",
       "9998    0.887454\n",
       "9999    0.013469\n",
       "Name: choose, Length: 10000, dtype: float64"
      ]
     },
     "execution_count": 155,
     "metadata": {},
     "output_type": "execute_result"
    }
   ],
   "source": [
    "samples2['choose']"
   ]
  },
  {
   "cell_type": "code",
   "execution_count": 157,
   "id": "0b1861ea",
   "metadata": {},
   "outputs": [
    {
     "data": {
      "text/plain": [
       "1.0"
      ]
     },
     "execution_count": 157,
     "metadata": {},
     "output_type": "execute_result"
    }
   ],
   "source": [
    "roc_auc_score(predict(test.loc[:, features], w), sigmoid(np.dot(test.loc[:, features], w)))"
   ]
  },
  {
   "cell_type": "code",
   "execution_count": null,
   "id": "0c90c166",
   "metadata": {},
   "outputs": [],
   "source": []
  }
 ],
 "metadata": {
  "kernelspec": {
   "display_name": "Python 3 (ipykernel)",
   "language": "python",
   "name": "python3"
  },
  "language_info": {
   "codemirror_mode": {
    "name": "ipython",
    "version": 3
   },
   "file_extension": ".py",
   "mimetype": "text/x-python",
   "name": "python",
   "nbconvert_exporter": "python",
   "pygments_lexer": "ipython3",
   "version": "3.9.12"
  }
 },
 "nbformat": 4,
 "nbformat_minor": 5
}
