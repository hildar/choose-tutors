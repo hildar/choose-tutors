{
 "cells": [
  {
   "cell_type": "markdown",
   "id": "728fa0e3",
   "metadata": {},
   "source": [
    "# Choose proper tutors for math exam\n",
    "\n",
    "## Algorithms of data analysis. Classification. \n",
    "\n",
    "https://www.kaggle.com/c/gb-choose-tutors"
   ]
  },
  {
   "cell_type": "markdown",
   "id": "06c0f721-0551-4400-a304-a01849040027",
   "metadata": {},
   "source": [
    "In this internal Geekbrains competition we were **not allowed** to use external libraries.\n",
    "\n",
    "I've made custom logistic regression function with AUC ROC metric, got good result and won top-3 place with **AUC ROC Score = 0.98392** on test data:"
   ]
  },
  {
   "cell_type": "markdown",
   "id": "ebabca13-1371-4739-a6ed-0c42d1d6c633",
   "metadata": {},
   "source": [
    "<img src=\"img/3-rd place.png\">"
   ]
  },
  {
   "cell_type": "code",
   "execution_count": 1,
   "id": "838955ce",
   "metadata": {},
   "outputs": [],
   "source": [
    "import numpy as np\n",
    "import pandas as pd\n",
    "from sklearn.model_selection import train_test_split\n",
    "from imblearn import over_sampling, under_sampling\n",
    "import matplotlib.pyplot as plt\n",
    "import seaborn as sns"
   ]
  },
  {
   "cell_type": "markdown",
   "id": "f2aa977e-e296-49f6-a1a9-c2a9292f8251",
   "metadata": {},
   "source": [
    "Let's make custom functions for classification.\n",
    "\n",
    "Standard Scale:"
   ]
  },
  {
   "cell_type": "markdown",
   "id": "8081f13e-baae-4a2b-8dd9-ec7e7ff40c01",
   "metadata": {},
   "source": [
    "$$x^{j}_{i}=\\frac{x^{j}_{i} - \\mu_{j}}{\\sigma_{j}}.$$"
   ]
  },
  {
   "cell_type": "code",
   "execution_count": 2,
   "id": "3828f1c7",
   "metadata": {},
   "outputs": [],
   "source": [
    "def standart_scale(x):\n",
    "    return (x - x.mean()) / x.std()"
   ]
  },
  {
   "cell_type": "markdown",
   "id": "0b378788-be29-44f6-a1aa-021615ad062a",
   "metadata": {},
   "source": [
    "Sigmoid function: \n",
    "\n",
    "$$\\sigma(z) = \\frac{1}{1 + exp^{(-z)}}$$"
   ]
  },
  {
   "cell_type": "code",
   "execution_count": 3,
   "id": "7fca5738",
   "metadata": {},
   "outputs": [],
   "source": [
    "# sigmoid function where: z = np.dot(X, w)\n",
    "def sigmoid(z):\n",
    "    return 1 / (1 + np.exp(-z))"
   ]
  },
  {
   "cell_type": "markdown",
   "id": "797d94e9-1fbe-405c-acb8-660f6a8f5851",
   "metadata": {},
   "source": [
    "Log loss function:\n",
    "\n",
    "$$L(X) = -\\frac{1}{l}\\sum^{l}_{i=1} (y_{i} \\text{ln}(\\sigma) + (1 - y_{i})\\text{ln} (1-\\sigma)).$$"
   ]
  },
  {
   "cell_type": "code",
   "execution_count": 4,
   "id": "0978b2f9",
   "metadata": {},
   "outputs": [],
   "source": [
    "# y_pred = sigmoid(np.dot(X, w))\n",
    "def log_loss(y, y_pred):\n",
    "    eps = 1e-8\n",
    "    y_pred = np.clip(y_pred, eps, 1 - eps)  # that need to avoid zero in logarithm\n",
    "    return -np.mean(y * np.log(y_pred) + (1 - y) * np.log(1 - y_pred))"
   ]
  },
  {
   "cell_type": "markdown",
   "id": "730e3a46-1714-4385-8c9e-6934ccafd417",
   "metadata": {},
   "source": [
    "Logistic regression function:"
   ]
  },
  {
   "cell_type": "code",
   "execution_count": 5,
   "id": "d4e8a378",
   "metadata": {},
   "outputs": [],
   "source": [
    "# get weights\n",
    "def eval_model(x, y, iterations=500, eta=1e-4):\n",
    "    np.random.seed(42)\n",
    "    w = np.random.randn(x.shape[1])\n",
    "    n = x.shape[0]\n",
    "    \n",
    "    for i in range(iterations):\n",
    "        z = np.dot(x, w)\n",
    "        y_pred = sigmoid(z)\n",
    "        err = log_loss(y, y_pred)\n",
    "        \n",
    "        dQ = 1/n * x.T @ (y_pred - y)\n",
    "        w -= eta * dQ\n",
    "            \n",
    "    return w, log_loss(y, y_pred)"
   ]
  },
  {
   "cell_type": "code",
   "execution_count": 6,
   "id": "88512f83",
   "metadata": {},
   "outputs": [],
   "source": [
    "# default threshold is 0.5\n",
    "def predict(x, w, t=0.5):\n",
    "    m = x.shape[0]\n",
    "    y_pred = np.zeros(m, dtype=int)\n",
    "    A = np.squeeze(sigmoid(np.dot(x, w)))\n",
    "\n",
    "    # Predict class denpending from threshold\n",
    "    for i in range(A.shape[0]):\n",
    "        if (A[i] > t): \n",
    "            y_pred[i] = 1\n",
    "        elif (A[i] <= t):\n",
    "            y_pred[i] = 0\n",
    "\n",
    "    return y_pred"
   ]
  },
  {
   "cell_type": "code",
   "execution_count": 7,
   "id": "d3e19f7c",
   "metadata": {},
   "outputs": [],
   "source": [
    "# new cm with thresholds\n",
    "def confusion_matrix(y, y_pred, t=0.5):\n",
    "    cm = np.zeros((2, 2))\n",
    "    for i in range(len(y)):         \n",
    "        if y[i] > t and y_pred[i] > t: # TP\n",
    "            cm[0][0] += 1            \n",
    "        elif y[i] <= t and y_pred[i] <= t: # TN\n",
    "            cm[1][1] += 1            \n",
    "        elif y[i] <= t and y_pred[i] > t: # FP\n",
    "            cm[0][1] += 1            \n",
    "        elif y[i] > t and y_pred[i] <= t: # FN\n",
    "            cm[1][0] += 1        \n",
    "    return cm"
   ]
  },
  {
   "cell_type": "code",
   "execution_count": 8,
   "id": "0a893af3",
   "metadata": {},
   "outputs": [],
   "source": [
    "# get TP TN FP FN from confusion matrix\n",
    "def positive_negative(cm):\n",
    "    TP = cm[0][0]\n",
    "    TN = cm[1][1]\n",
    "    FP = cm[0][1]\n",
    "    FN = cm[1][0]\n",
    "    return TP, TN, FP, FN"
   ]
  },
  {
   "cell_type": "code",
   "execution_count": 9,
   "id": "e8a6e960",
   "metadata": {},
   "outputs": [],
   "source": [
    "# ROC AUC curve from TPR, FPR values\n",
    "def roc_curve(x, y, w):\n",
    "    thresholds = np.linspace(0, 1, 100)\n",
    "    tpr_row = []\n",
    "    fpr_row = []\n",
    "    y = y.to_numpy().copy()\n",
    "    y_pred = sigmoid(np.dot(x, w))\n",
    "    \n",
    "    for t in thresholds:\n",
    "        cm = confusion_matrix(y, y_pred, t)  # t\n",
    "        tp, tn, fp, fn = positive_negative(cm)\n",
    "        \n",
    "        # check zero in denominators\n",
    "        denominator_tpr = tp + fn\n",
    "        denominator_fpr = fp + tn\n",
    "        if denominator_tpr == 0.0:\n",
    "            denominator_tpr += 1e-12\n",
    "        if denominator_fpr == 0.0:\n",
    "            denominator_fpr += 1e-12\n",
    "            \n",
    "        tpr = tp / denominator_tpr\n",
    "        fpr = fp / denominator_fpr\n",
    "        tpr_row.insert(0, tpr)\n",
    "        fpr_row.insert(0, fpr)\n",
    "        \n",
    "    return tpr_row, fpr_row"
   ]
  },
  {
   "cell_type": "code",
   "execution_count": 10,
   "id": "3d01eb26",
   "metadata": {},
   "outputs": [],
   "source": [
    "# Load data\n",
    "data = pd.read_csv('data/train.csv')\n",
    "test = pd.read_csv('data/test.csv')\n",
    "samples = pd.read_csv('data/sample_submission.csv')"
   ]
  },
  {
   "cell_type": "code",
   "execution_count": 11,
   "id": "373ff51d",
   "metadata": {},
   "outputs": [
    {
     "data": {
      "text/html": [
       "<div>\n",
       "<style scoped>\n",
       "    .dataframe tbody tr th:only-of-type {\n",
       "        vertical-align: middle;\n",
       "    }\n",
       "\n",
       "    .dataframe tbody tr th {\n",
       "        vertical-align: top;\n",
       "    }\n",
       "\n",
       "    .dataframe thead th {\n",
       "        text-align: right;\n",
       "    }\n",
       "</style>\n",
       "<table border=\"1\" class=\"dataframe\">\n",
       "  <thead>\n",
       "    <tr style=\"text-align: right;\">\n",
       "      <th></th>\n",
       "      <th>Id</th>\n",
       "      <th>age</th>\n",
       "      <th>years_of_experience</th>\n",
       "      <th>lesson_price</th>\n",
       "      <th>qualification</th>\n",
       "      <th>physics</th>\n",
       "      <th>chemistry</th>\n",
       "      <th>biology</th>\n",
       "      <th>english</th>\n",
       "      <th>geography</th>\n",
       "      <th>history</th>\n",
       "      <th>mean_exam_points</th>\n",
       "      <th>choose</th>\n",
       "    </tr>\n",
       "  </thead>\n",
       "  <tbody>\n",
       "    <tr>\n",
       "      <th>0</th>\n",
       "      <td>0</td>\n",
       "      <td>35.0</td>\n",
       "      <td>0.0</td>\n",
       "      <td>2150.0</td>\n",
       "      <td>2.0</td>\n",
       "      <td>0.0</td>\n",
       "      <td>0.0</td>\n",
       "      <td>0.0</td>\n",
       "      <td>0.0</td>\n",
       "      <td>0.0</td>\n",
       "      <td>0.0</td>\n",
       "      <td>74.0</td>\n",
       "      <td>0</td>\n",
       "    </tr>\n",
       "    <tr>\n",
       "      <th>1</th>\n",
       "      <td>1</td>\n",
       "      <td>52.0</td>\n",
       "      <td>2.0</td>\n",
       "      <td>1250.0</td>\n",
       "      <td>2.0</td>\n",
       "      <td>1.0</td>\n",
       "      <td>0.0</td>\n",
       "      <td>1.0</td>\n",
       "      <td>0.0</td>\n",
       "      <td>0.0</td>\n",
       "      <td>1.0</td>\n",
       "      <td>57.0</td>\n",
       "      <td>1</td>\n",
       "    </tr>\n",
       "    <tr>\n",
       "      <th>2</th>\n",
       "      <td>2</td>\n",
       "      <td>29.0</td>\n",
       "      <td>3.0</td>\n",
       "      <td>1750.0</td>\n",
       "      <td>1.0</td>\n",
       "      <td>1.0</td>\n",
       "      <td>0.0</td>\n",
       "      <td>0.0</td>\n",
       "      <td>0.0</td>\n",
       "      <td>0.0</td>\n",
       "      <td>0.0</td>\n",
       "      <td>66.0</td>\n",
       "      <td>0</td>\n",
       "    </tr>\n",
       "  </tbody>\n",
       "</table>\n",
       "</div>"
      ],
      "text/plain": [
       "   Id   age  years_of_experience  lesson_price  qualification  physics  \\\n",
       "0   0  35.0                  0.0        2150.0            2.0      0.0   \n",
       "1   1  52.0                  2.0        1250.0            2.0      1.0   \n",
       "2   2  29.0                  3.0        1750.0            1.0      1.0   \n",
       "\n",
       "   chemistry  biology  english  geography  history  mean_exam_points  choose  \n",
       "0        0.0      0.0      0.0        0.0      0.0              74.0       0  \n",
       "1        0.0      1.0      0.0        0.0      1.0              57.0       1  \n",
       "2        0.0      0.0      0.0        0.0      0.0              66.0       0  "
      ]
     },
     "execution_count": 11,
     "metadata": {},
     "output_type": "execute_result"
    }
   ],
   "source": [
    "data.head(3)"
   ]
  },
  {
   "cell_type": "code",
   "execution_count": 12,
   "id": "8e68c3e2",
   "metadata": {
    "scrolled": true
   },
   "outputs": [
    {
     "data": {
      "text/plain": [
       "0    8891\n",
       "1    1109\n",
       "Name: choose, dtype: int64"
      ]
     },
     "execution_count": 12,
     "metadata": {},
     "output_type": "execute_result"
    }
   ],
   "source": [
    "data.choose.value_counts()"
   ]
  },
  {
   "cell_type": "code",
   "execution_count": 13,
   "id": "6b82c508",
   "metadata": {},
   "outputs": [
    {
     "data": {
      "text/plain": [
       "Text(0.5, 0, 'choose')"
      ]
     },
     "execution_count": 13,
     "metadata": {},
     "output_type": "execute_result"
    },
    {
     "data": {
      "image/png": "[encoded data removed]",
      "text/plain": [
       "<Figure size 432x288 with 1 Axes>"
      ]
     },
     "metadata": {
      "needs_background": "light"
     },
     "output_type": "display_data"
    }
   ],
   "source": [
    "# Check correlation of features\n",
    "data.corr().drop('choose', axis=1).loc['choose'].sort_values().plot(kind='barh')\n",
    "plt.grid(linewidth=0.3, alpha=0.4)\n",
    "plt.xlabel('choose')"
   ]
  },
  {
   "cell_type": "code",
   "execution_count": 14,
   "id": "b4f37b28",
   "metadata": {},
   "outputs": [],
   "source": [
    "features = ['age', 'years_of_experience', 'lesson_price', 'qualification', \n",
    "            'physics', 'chemistry', 'biology', 'english', 'geography', 'history', 'mean_exam_points'] \n",
    "\n",
    "target = 'choose'"
   ]
  },
  {
   "cell_type": "code",
   "execution_count": 15,
   "id": "3747805f",
   "metadata": {},
   "outputs": [],
   "source": [
    "# Add ones column. This one need for learn\n",
    "data = pd.concat([pd.Series(np.ones(10000), name='zero'), data], axis=1)\n",
    "# Scaling\n",
    "data.loc[:, features] = standart_scale(data.loc[:, features])\n",
    "# Add zero name in features for consistent\n",
    "features.insert(0, 'zero')"
   ]
  },
  {
   "cell_type": "code",
   "execution_count": 16,
   "id": "0cb909e0",
   "metadata": {},
   "outputs": [
    {
     "data": {
      "text/html": [
       "<div>\n",
       "<style scoped>\n",
       "    .dataframe tbody tr th:only-of-type {\n",
       "        vertical-align: middle;\n",
       "    }\n",
       "\n",
       "    .dataframe tbody tr th {\n",
       "        vertical-align: top;\n",
       "    }\n",
       "\n",
       "    .dataframe thead th {\n",
       "        text-align: right;\n",
       "    }\n",
       "</style>\n",
       "<table border=\"1\" class=\"dataframe\">\n",
       "  <thead>\n",
       "    <tr style=\"text-align: right;\">\n",
       "      <th></th>\n",
       "      <th>zero</th>\n",
       "      <th>Id</th>\n",
       "      <th>age</th>\n",
       "      <th>years_of_experience</th>\n",
       "      <th>lesson_price</th>\n",
       "      <th>qualification</th>\n",
       "      <th>physics</th>\n",
       "      <th>chemistry</th>\n",
       "      <th>biology</th>\n",
       "      <th>english</th>\n",
       "      <th>geography</th>\n",
       "      <th>history</th>\n",
       "      <th>mean_exam_points</th>\n",
       "      <th>choose</th>\n",
       "    </tr>\n",
       "  </thead>\n",
       "  <tbody>\n",
       "    <tr>\n",
       "      <th>0</th>\n",
       "      <td>1.0</td>\n",
       "      <td>0</td>\n",
       "      <td>-1.345023</td>\n",
       "      <td>-1.117674</td>\n",
       "      <td>0.854466</td>\n",
       "      <td>0.345123</td>\n",
       "      <td>-0.767304</td>\n",
       "      <td>-0.371874</td>\n",
       "      <td>-0.364343</td>\n",
       "      <td>-0.250611</td>\n",
       "      <td>-0.168779</td>\n",
       "      <td>-0.135381</td>\n",
       "      <td>0.703552</td>\n",
       "      <td>0</td>\n",
       "    </tr>\n",
       "    <tr>\n",
       "      <th>1</th>\n",
       "      <td>1.0</td>\n",
       "      <td>1</td>\n",
       "      <td>0.771966</td>\n",
       "      <td>0.014262</td>\n",
       "      <td>-0.863783</td>\n",
       "      <td>0.345123</td>\n",
       "      <td>1.303134</td>\n",
       "      <td>-0.371874</td>\n",
       "      <td>2.744389</td>\n",
       "      <td>-0.250611</td>\n",
       "      <td>-0.168779</td>\n",
       "      <td>7.385804</td>\n",
       "      <td>-0.546906</td>\n",
       "      <td>1</td>\n",
       "    </tr>\n",
       "    <tr>\n",
       "      <th>2</th>\n",
       "      <td>1.0</td>\n",
       "      <td>2</td>\n",
       "      <td>-2.092195</td>\n",
       "      <td>0.580231</td>\n",
       "      <td>0.090800</td>\n",
       "      <td>-0.906684</td>\n",
       "      <td>1.303134</td>\n",
       "      <td>-0.371874</td>\n",
       "      <td>-0.364343</td>\n",
       "      <td>-0.250611</td>\n",
       "      <td>-0.168779</td>\n",
       "      <td>-0.135381</td>\n",
       "      <td>0.115101</td>\n",
       "      <td>0</td>\n",
       "    </tr>\n",
       "  </tbody>\n",
       "</table>\n",
       "</div>"
      ],
      "text/plain": [
       "   zero  Id       age  years_of_experience  lesson_price  qualification  \\\n",
       "0   1.0   0 -1.345023            -1.117674      0.854466       0.345123   \n",
       "1   1.0   1  0.771966             0.014262     -0.863783       0.345123   \n",
       "2   1.0   2 -2.092195             0.580231      0.090800      -0.906684   \n",
       "\n",
       "    physics  chemistry   biology   english  geography   history  \\\n",
       "0 -0.767304  -0.371874 -0.364343 -0.250611  -0.168779 -0.135381   \n",
       "1  1.303134  -0.371874  2.744389 -0.250611  -0.168779  7.385804   \n",
       "2  1.303134  -0.371874 -0.364343 -0.250611  -0.168779 -0.135381   \n",
       "\n",
       "   mean_exam_points  choose  \n",
       "0          0.703552       0  \n",
       "1         -0.546906       1  \n",
       "2          0.115101       0  "
      ]
     },
     "execution_count": 16,
     "metadata": {},
     "output_type": "execute_result"
    }
   ],
   "source": [
    "data.head(3)"
   ]
  },
  {
   "cell_type": "code",
   "execution_count": 17,
   "id": "a39f894a",
   "metadata": {},
   "outputs": [],
   "source": [
    "train, valid = train_test_split(data, test_size=0.3, random_state=0)"
   ]
  },
  {
   "cell_type": "markdown",
   "id": "c657ea5e-9428-44f0-a438-2912dbb9b9be",
   "metadata": {},
   "source": [
    "Grid Search:"
   ]
  },
  {
   "cell_type": "code",
   "execution_count": 18,
   "id": "97fb7d1a",
   "metadata": {
    "scrolled": true
   },
   "outputs": [
    {
     "name": "stdout",
     "output_type": "stream",
     "text": [
      "Ошибка 0.25129903446442964 при параметрах {'iteration': 300, 'eta': 1.0}\n",
      "Ошибка 0.251003256144399 при параметрах {'iteration': 300, 'eta': 1.2142857142857142}\n",
      "Ошибка 0.25087315876612654 при параметрах {'iteration': 300, 'eta': 1.4285714285714286}\n",
      "Ошибка 0.2508141718306777 при параметрах {'iteration': 300, 'eta': 1.6428571428571428}\n",
      "Ошибка 0.2507869071871422 при параметрах {'iteration': 300, 'eta': 1.8571428571428572}\n",
      "Ошибка 0.25077414759437855 при параметрах {'iteration': 300, 'eta': 2.071428571428571}\n",
      "Ошибка 0.25076812792915515 при параметрах {'iteration': 300, 'eta': 2.2857142857142856}\n",
      "Ошибка 0.2507652732075187 при параметрах {'iteration': 300, 'eta': 2.5}\n",
      "Ошибка 0.2507639149525759 при параметрах {'iteration': 300, 'eta': 2.7142857142857144}\n",
      "Ошибка 0.2507632674174648 при параметрах {'iteration': 300, 'eta': 2.9285714285714284}\n",
      "Ошибка 0.25076295836814166 при параметрах {'iteration': 300, 'eta': 3.142857142857143}\n",
      "Ошибка 0.25076281079238205 при параметрах {'iteration': 300, 'eta': 3.357142857142857}\n",
      "Ошибка 0.2507627403155362 при параметрах {'iteration': 300, 'eta': 3.571428571428571}\n",
      "Ошибка 0.25076270666488076 при параметрах {'iteration': 300, 'eta': 3.7857142857142856}\n",
      "Ошибка 0.2507626906044687 при параметрах {'iteration': 300, 'eta': 4.0}\n",
      "Ошибка 0.2507626847512583 при параметрах {'iteration': 500, 'eta': 2.5}\n",
      "Ошибка 0.2507626785541874 при параметрах {'iteration': 500, 'eta': 2.7142857142857144}\n",
      "Ошибка 0.25076267673440306 при параметрах {'iteration': 500, 'eta': 2.9285714285714284}\n",
      "Ошибка 0.25076267620066883 при параметрах {'iteration': 500, 'eta': 3.142857142857143}\n",
      "Ошибка 0.25076267604433455 при параметрах {'iteration': 500, 'eta': 3.357142857142857}\n",
      "Ошибка 0.25076267599860474 при параметрах {'iteration': 500, 'eta': 3.571428571428571}\n",
      "Ошибка 0.250762675985249 при параметрах {'iteration': 500, 'eta': 3.7857142857142856}\n",
      "Ошибка 0.25076267598135393 при параметрах {'iteration': 500, 'eta': 4.0}\n",
      "Ошибка 0.25076267598072355 при параметрах {'iteration': 700, 'eta': 2.9285714285714284}\n",
      "Ошибка 0.2507626759799277 при параметрах {'iteration': 700, 'eta': 3.142857142857143}\n",
      "Ошибка 0.2507626759797853 при параметрах {'iteration': 700, 'eta': 3.357142857142857}\n",
      "Ошибка 0.25076267597976054 при параметрах {'iteration': 700, 'eta': 3.571428571428571}\n",
      "Ошибка 0.2507626759797545 при параметрах {'iteration': 700, 'eta': 3.7857142857142856}\n",
      "Наименьшая ошибка 0.2507626759797545 при параметрах {'iteration': 700, 'eta': 3.7857142857142856}\n",
      "CPU times: user 1min 54s, sys: 1.46 s, total: 1min 56s\n",
      "Wall time: 29.8 s\n"
     ]
    }
   ],
   "source": [
    "%%time\n",
    "# Select parameters\n",
    "iterations = np.linspace(300, 700, 3, dtype=int)\n",
    "etas = np.linspace(1, 4, 15)\n",
    "\n",
    "best_error = np.inf\n",
    "best_params = {}\n",
    "\n",
    "for iteration in iterations:\n",
    "    for eta in etas:\n",
    "        w, error = eval_model(train.loc[:, features], train[target], iterations=iteration, eta=eta)\n",
    "        if error < best_error:\n",
    "            best_error = error\n",
    "            best_params = {\n",
    "                'iteration': iteration,\n",
    "                'eta': eta\n",
    "            }\n",
    "            print(f'Ошибка {best_error} при параметрах {best_params}')\n",
    "        \n",
    "print(f'Наименьшая ошибка {best_error} при параметрах {best_params}')"
   ]
  },
  {
   "cell_type": "code",
   "execution_count": 19,
   "id": "68d1bb48",
   "metadata": {
    "scrolled": true
   },
   "outputs": [
    {
     "data": {
      "text/plain": [
       "(zero                  -3.129165\n",
       " age                    0.065252\n",
       " years_of_experience   -0.075426\n",
       " lesson_price          -2.902883\n",
       " qualification          1.307223\n",
       " physics                0.437780\n",
       " chemistry              0.292799\n",
       " biology                0.209619\n",
       " english                0.068264\n",
       " geography              0.027467\n",
       " history                0.022910\n",
       " mean_exam_points       1.552935\n",
       " dtype: float64,\n",
       " 0.2507626759797545)"
      ]
     },
     "execution_count": 19,
     "metadata": {},
     "output_type": "execute_result"
    }
   ],
   "source": [
    "# Optimal parameters: \n",
    "w, err = eval_model(train.loc[:, features], train[target], iterations=700, eta=3.7857142857142856)\n",
    "w, err"
   ]
  },
  {
   "cell_type": "code",
   "execution_count": 20,
   "id": "4c0dba37",
   "metadata": {
    "tags": []
   },
   "outputs": [
    {
     "data": {
      "text/plain": [
       "([0.0,\n",
       "  0.005763688760806916,\n",
       "  0.005763688760806916,\n",
       "  0.008645533141210375,\n",
       "  0.011527377521613832],\n",
       " [0.4858650584244252,\n",
       "  0.5571051639653223,\n",
       "  0.6426686769694685,\n",
       "  0.7576328684508103,\n",
       "  1.0])"
      ]
     },
     "execution_count": 20,
     "metadata": {},
     "output_type": "execute_result"
    }
   ],
   "source": [
    "TPR, FPR = roc_curve(valid.loc[:, features], valid[target], w)\n",
    "TPR[:5], FPR[-5:]"
   ]
  },
  {
   "cell_type": "code",
   "execution_count": 21,
   "id": "03504edb",
   "metadata": {},
   "outputs": [
    {
     "data": {
      "image/png": "[encoded data removed]",
      "text/plain": [
       "<Figure size 432x288 with 1 Axes>"
      ]
     },
     "metadata": {
      "needs_background": "light"
     },
     "output_type": "display_data"
    }
   ],
   "source": [
    "AUC_ROC = np.trapz(TPR, x=FPR)\n",
    "\n",
    "plt.title('ROC curve')\n",
    "plt.ylim(0, 1.05)\n",
    "plt.xlabel('FPR')\n",
    "plt.ylabel('TPR')\n",
    "plt.grid()\n",
    "plt.legend(' ', title=f'AUC-ROC={AUC_ROC:.3f}', loc='lower right')\n",
    "plt.plot(FPR, TPR);\n",
    "plt.scatter(FPR, TPR);"
   ]
  },
  {
   "cell_type": "markdown",
   "id": "bcf4802b",
   "metadata": {},
   "source": [
    "### Predict Test.csv"
   ]
  },
  {
   "cell_type": "code",
   "execution_count": 22,
   "id": "d9913c81",
   "metadata": {},
   "outputs": [
    {
     "data": {
      "text/html": [
       "<div>\n",
       "<style scoped>\n",
       "    .dataframe tbody tr th:only-of-type {\n",
       "        vertical-align: middle;\n",
       "    }\n",
       "\n",
       "    .dataframe tbody tr th {\n",
       "        vertical-align: top;\n",
       "    }\n",
       "\n",
       "    .dataframe thead th {\n",
       "        text-align: right;\n",
       "    }\n",
       "</style>\n",
       "<table border=\"1\" class=\"dataframe\">\n",
       "  <thead>\n",
       "    <tr style=\"text-align: right;\">\n",
       "      <th></th>\n",
       "      <th>zero</th>\n",
       "      <th>Id</th>\n",
       "      <th>age</th>\n",
       "      <th>years_of_experience</th>\n",
       "      <th>lesson_price</th>\n",
       "      <th>qualification</th>\n",
       "      <th>physics</th>\n",
       "      <th>chemistry</th>\n",
       "      <th>biology</th>\n",
       "      <th>english</th>\n",
       "      <th>geography</th>\n",
       "      <th>history</th>\n",
       "      <th>mean_exam_points</th>\n",
       "    </tr>\n",
       "  </thead>\n",
       "  <tbody>\n",
       "    <tr>\n",
       "      <th>0</th>\n",
       "      <td>1.0</td>\n",
       "      <td>10000</td>\n",
       "      <td>-1.733633</td>\n",
       "      <td>0.008074</td>\n",
       "      <td>1.900372</td>\n",
       "      <td>1.643400</td>\n",
       "      <td>-0.769773</td>\n",
       "      <td>-0.383283</td>\n",
       "      <td>-0.361874</td>\n",
       "      <td>-0.226979</td>\n",
       "      <td>-0.173422</td>\n",
       "      <td>-0.123814</td>\n",
       "      <td>1.904968</td>\n",
       "    </tr>\n",
       "    <tr>\n",
       "      <th>1</th>\n",
       "      <td>1.0</td>\n",
       "      <td>10001</td>\n",
       "      <td>-1.360126</td>\n",
       "      <td>2.266408</td>\n",
       "      <td>0.190191</td>\n",
       "      <td>0.377006</td>\n",
       "      <td>1.298954</td>\n",
       "      <td>2.608778</td>\n",
       "      <td>-0.361874</td>\n",
       "      <td>-0.226979</td>\n",
       "      <td>-0.173422</td>\n",
       "      <td>-0.123814</td>\n",
       "      <td>0.504831</td>\n",
       "    </tr>\n",
       "    <tr>\n",
       "      <th>2</th>\n",
       "      <td>1.0</td>\n",
       "      <td>10002</td>\n",
       "      <td>-0.239605</td>\n",
       "      <td>0.008074</td>\n",
       "      <td>-0.949930</td>\n",
       "      <td>-0.889389</td>\n",
       "      <td>-0.769773</td>\n",
       "      <td>-0.383283</td>\n",
       "      <td>-0.361874</td>\n",
       "      <td>-0.226979</td>\n",
       "      <td>-0.173422</td>\n",
       "      <td>-0.123814</td>\n",
       "      <td>-1.411147</td>\n",
       "    </tr>\n",
       "  </tbody>\n",
       "</table>\n",
       "</div>"
      ],
      "text/plain": [
       "   zero     Id       age  years_of_experience  lesson_price  qualification  \\\n",
       "0   1.0  10000 -1.733633             0.008074      1.900372       1.643400   \n",
       "1   1.0  10001 -1.360126             2.266408      0.190191       0.377006   \n",
       "2   1.0  10002 -0.239605             0.008074     -0.949930      -0.889389   \n",
       "\n",
       "    physics  chemistry   biology   english  geography   history  \\\n",
       "0 -0.769773  -0.383283 -0.361874 -0.226979  -0.173422 -0.123814   \n",
       "1  1.298954   2.608778 -0.361874 -0.226979  -0.173422 -0.123814   \n",
       "2 -0.769773  -0.383283 -0.361874 -0.226979  -0.173422 -0.123814   \n",
       "\n",
       "   mean_exam_points  \n",
       "0          1.904968  \n",
       "1          0.504831  \n",
       "2         -1.411147  "
      ]
     },
     "execution_count": 22,
     "metadata": {},
     "output_type": "execute_result"
    }
   ],
   "source": [
    "test = pd.concat([pd.Series(np.ones(10000), name='zero'), test], axis=1)\n",
    "test.loc[:, features[1:]] = standart_scale(test.loc[:, features[1:]])\n",
    "test.head(3)"
   ]
  },
  {
   "cell_type": "code",
   "execution_count": 23,
   "id": "78d298b3",
   "metadata": {},
   "outputs": [
    {
     "data": {
      "text/plain": [
       "array([0.0147589 , 0.19300348, 0.01351846, ..., 0.32644976, 0.89404343,\n",
       "       0.02005859])"
      ]
     },
     "execution_count": 23,
     "metadata": {},
     "output_type": "execute_result"
    }
   ],
   "source": [
    "# \"predicted\" should be in probabilities for best score ROC AUC at Kaggle \n",
    "pred_test = sigmoid(np.dot(test.loc[:, features], w))\n",
    "pred_test"
   ]
  },
  {
   "cell_type": "code",
   "execution_count": 24,
   "id": "6f7b07ce",
   "metadata": {},
   "outputs": [
    {
     "data": {
      "text/html": [
       "<div>\n",
       "<style scoped>\n",
       "    .dataframe tbody tr th:only-of-type {\n",
       "        vertical-align: middle;\n",
       "    }\n",
       "\n",
       "    .dataframe tbody tr th {\n",
       "        vertical-align: top;\n",
       "    }\n",
       "\n",
       "    .dataframe thead th {\n",
       "        text-align: right;\n",
       "    }\n",
       "</style>\n",
       "<table border=\"1\" class=\"dataframe\">\n",
       "  <thead>\n",
       "    <tr style=\"text-align: right;\">\n",
       "      <th></th>\n",
       "      <th>Id</th>\n",
       "      <th>choose</th>\n",
       "    </tr>\n",
       "  </thead>\n",
       "  <tbody>\n",
       "    <tr>\n",
       "      <th>0</th>\n",
       "      <td>10000</td>\n",
       "      <td>0.014759</td>\n",
       "    </tr>\n",
       "    <tr>\n",
       "      <th>1</th>\n",
       "      <td>10001</td>\n",
       "      <td>0.193003</td>\n",
       "    </tr>\n",
       "    <tr>\n",
       "      <th>2</th>\n",
       "      <td>10002</td>\n",
       "      <td>0.013518</td>\n",
       "    </tr>\n",
       "  </tbody>\n",
       "</table>\n",
       "</div>"
      ],
      "text/plain": [
       "      Id    choose\n",
       "0  10000  0.014759\n",
       "1  10001  0.193003\n",
       "2  10002  0.013518"
      ]
     },
     "execution_count": 24,
     "metadata": {},
     "output_type": "execute_result"
    }
   ],
   "source": [
    "samples['choose'] = pred_test\n",
    "samples.head(3)"
   ]
  },
  {
   "cell_type": "markdown",
   "id": "3e9b7010-a9e7-40a8-85c4-09ebe2dfa581",
   "metadata": {},
   "source": [
    "Save submissions and send to Kaggle:"
   ]
  },
  {
   "cell_type": "code",
   "execution_count": 25,
   "id": "d30e582a",
   "metadata": {},
   "outputs": [],
   "source": [
    "samples.to_csv('data/submissions.csv', index=None)"
   ]
  },
  {
   "cell_type": "code",
   "execution_count": 26,
   "id": "85042de3",
   "metadata": {
    "scrolled": true
   },
   "outputs": [
    {
     "data": {
      "text/html": [
       "<div>\n",
       "<style scoped>\n",
       "    .dataframe tbody tr th:only-of-type {\n",
       "        vertical-align: middle;\n",
       "    }\n",
       "\n",
       "    .dataframe tbody tr th {\n",
       "        vertical-align: top;\n",
       "    }\n",
       "\n",
       "    .dataframe thead th {\n",
       "        text-align: right;\n",
       "    }\n",
       "</style>\n",
       "<table border=\"1\" class=\"dataframe\">\n",
       "  <thead>\n",
       "    <tr style=\"text-align: right;\">\n",
       "      <th></th>\n",
       "      <th>Id</th>\n",
       "      <th>choose</th>\n",
       "    </tr>\n",
       "  </thead>\n",
       "  <tbody>\n",
       "    <tr>\n",
       "      <th>0</th>\n",
       "      <td>10000</td>\n",
       "      <td>0.014759</td>\n",
       "    </tr>\n",
       "    <tr>\n",
       "      <th>1</th>\n",
       "      <td>10001</td>\n",
       "      <td>0.193003</td>\n",
       "    </tr>\n",
       "    <tr>\n",
       "      <th>2</th>\n",
       "      <td>10002</td>\n",
       "      <td>0.013518</td>\n",
       "    </tr>\n",
       "  </tbody>\n",
       "</table>\n",
       "</div>"
      ],
      "text/plain": [
       "      Id    choose\n",
       "0  10000  0.014759\n",
       "1  10001  0.193003\n",
       "2  10002  0.013518"
      ]
     },
     "execution_count": 26,
     "metadata": {},
     "output_type": "execute_result"
    }
   ],
   "source": [
    "pd.read_csv('data/submissions.csv').head(3)"
   ]
  },
  {
   "cell_type": "code",
   "execution_count": null,
   "id": "0c90c166",
   "metadata": {},
   "outputs": [],
   "source": []
  }
 ],
 "metadata": {
  "kernelspec": {
   "display_name": "Python 3 (ipykernel)",
   "language": "python",
   "name": "python3"
  },
  "language_info": {
   "codemirror_mode": {
    "name": "ipython",
    "version": 3
   },
   "file_extension": ".py",
   "mimetype": "text/x-python",
   "name": "python",
   "nbconvert_exporter": "python",
   "pygments_lexer": "ipython3",
   "version": "3.9.12"
  }
 },
 "nbformat": 4,
 "nbformat_minor": 5
}
